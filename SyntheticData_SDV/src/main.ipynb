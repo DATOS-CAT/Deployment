{
 "cells": [
  {
   "cell_type": "code",
   "execution_count": 32,
   "metadata": {},
   "outputs": [],
   "source": [
    "import os"
   ]
  },
  {
   "cell_type": "code",
   "execution_count": 33,
   "metadata": {},
   "outputs": [],
   "source": [
    "def request_paths():\n",
    "    path_origin = input(\"Enter the origin path of the file: \")\n",
    "    file_name = input(\"Enter the file name (with extension): \")\n",
    "    path_output = input(\"Enter the output path: \")\n",
    "\n",
    "    full_file_path = os.path.join(path_origin, file_name)\n",
    "    full_path_output = os.path.join(path_output,'synthetic_' + file_name )\n",
    "    \n",
    "    # Check if the file exists\n",
    "    if not os.path.exists(full_file_path):\n",
    "        print(f\"Error: The file '{full_file_path}' does not exist.\")\n",
    "        return None, None\n",
    "    \n",
    "    return full_file_path, full_path_output\n",
    "\n",
    "full_file_path, full_path_output = request_paths()\n"
   ]
  },
  {
   "cell_type": "markdown",
   "metadata": {},
   "source": [
    "### Load the data"
   ]
  },
  {
   "cell_type": "code",
   "execution_count": 34,
   "metadata": {},
   "outputs": [],
   "source": [
    "import pandas as pd\n",
    "\n",
    "data = pd.read_csv(full_file_path)"
   ]
  },
  {
   "cell_type": "code",
   "execution_count": null,
   "metadata": {},
   "outputs": [],
   "source": [
    "data.head()"
   ]
  },
  {
   "cell_type": "markdown",
   "metadata": {},
   "source": [
    "### Metadata"
   ]
  },
  {
   "cell_type": "code",
   "execution_count": 36,
   "metadata": {},
   "outputs": [],
   "source": [
    "from sdv.metadata import SingleTableMetadata\n",
    "\n",
    "metadata = SingleTableMetadata()\n",
    "\n",
    "# Autodetect the metadata\n",
    "metadata.detect_from_dataframe(data)"
   ]
  },
  {
   "cell_type": "code",
   "execution_count": null,
   "metadata": {},
   "outputs": [],
   "source": [
    "metadata"
   ]
  },
  {
   "cell_type": "code",
   "execution_count": null,
   "metadata": {},
   "outputs": [],
   "source": [
    "metadata.visualize()"
   ]
  },
  {
   "cell_type": "markdown",
   "metadata": {},
   "source": [
    "It is important to fix de sdtypes!\n",
    "- *boolean*: describes columns that contain TRUE or False values.\n",
    "- *categorical*: describes columns that contain distinct categories.\n",
    "- *datetime*: describes columns that indicate a point of time. It requires a *datetime_format* specification.\n",
    "- *numerical*: describes data with numbers. There are different *computer_representation* options: *Float*, *Int64*, ... \n",
    "- *id* : describes columns that are used to identify rows. There is an option that allows you to describe the format of the ID, *regex_format*. \n",
    "\n",
    "> NOTE: Personal Identifiable Information (PII) can be defined. Therefore, the synthetic data generated will contain entirely new values that don't appear in the original data. The PII information is documented as \"pii\": true. "
   ]
  },
  {
   "cell_type": "markdown",
   "metadata": {},
   "source": [
    "#### Fixing sdtypes"
   ]
  },
  {
   "cell_type": "code",
   "execution_count": 75,
   "metadata": {},
   "outputs": [],
   "source": [
    "# Example\n",
    "metadata.update_column(\n",
    "    column_name='EGA_id', \n",
    "    sdtype = 'id', \n",
    "    regex_format = \"^EGA_\\d{5}$\"\n",
    "    )"
   ]
  },
  {
   "cell_type": "code",
   "execution_count": 76,
   "metadata": {},
   "outputs": [],
   "source": [
    "metadata.validate()"
   ]
  },
  {
   "cell_type": "markdown",
   "metadata": {},
   "source": [
    "### SDV model"
   ]
  },
  {
   "cell_type": "code",
   "execution_count": null,
   "metadata": {},
   "outputs": [],
   "source": [
    "from sdv.single_table import GaussianCopulaSynthesizer\n",
    "\n",
    "sdv_model = GaussianCopulaSynthesizer(metadata = metadata)\n",
    "sdv_model.fit(data = data)"
   ]
  },
  {
   "cell_type": "markdown",
   "metadata": {},
   "source": [
    "> NOTE: There is an option to add constraints (i.e. logical rules) to the synthesizer."
   ]
  },
  {
   "cell_type": "code",
   "execution_count": null,
   "metadata": {},
   "outputs": [],
   "source": [
    "# Generating synthetic data\n",
    "number_rows = 500\n",
    "\n",
    "synthetic_data = sdv_model.sample(num_rows = number_rows)\n",
    "synthetic_data.head()"
   ]
  },
  {
   "cell_type": "markdown",
   "metadata": {},
   "source": [
    "### Evaluation: Real vs. Synthetic data"
   ]
  },
  {
   "cell_type": "markdown",
   "metadata": {},
   "source": [
    "#### A. Diagnostic"
   ]
  },
  {
   "cell_type": "code",
   "execution_count": null,
   "metadata": {},
   "outputs": [],
   "source": [
    "from sdv.evaluation.single_table import run_diagnostic\n",
    "\n",
    "diagnostic_report = run_diagnostic(\n",
    "    real_data = data,\n",
    "    synthetic_data = synthetic_data,\n",
    "    metadata = metadata\n",
    "    )"
   ]
  },
  {
   "cell_type": "code",
   "execution_count": null,
   "metadata": {},
   "outputs": [],
   "source": [
    "# Data Validity\n",
    "diagnostic_report.get_details(property_name='Data Validity')"
   ]
  },
  {
   "cell_type": "code",
   "execution_count": null,
   "metadata": {},
   "outputs": [],
   "source": [
    "# Data Structure\n",
    "diagnostic_report.get_details(property_name='Data Structure')"
   ]
  },
  {
   "cell_type": "markdown",
   "metadata": {},
   "source": [
    "#### B. Data Quality"
   ]
  },
  {
   "cell_type": "code",
   "execution_count": null,
   "metadata": {},
   "outputs": [],
   "source": [
    "from sdv.evaluation.single_table import evaluate_quality\n",
    "\n",
    "quality_report = evaluate_quality(\n",
    "    real_data = data,\n",
    "    synthetic_data = synthetic_data,\n",
    "    metadata = metadata\n",
    ")"
   ]
  },
  {
   "cell_type": "markdown",
   "metadata": {},
   "source": [
    "### Store synthetic data"
   ]
  },
  {
   "cell_type": "code",
   "execution_count": 66,
   "metadata": {},
   "outputs": [],
   "source": [
    "synthetic_data.to_csv(full_path_output, index = False)"
   ]
  }
 ],
 "metadata": {
  "kernelspec": {
   "display_name": "SDV Kernel",
   "language": "python",
   "name": "sdv_kernel"
  },
  "language_info": {
   "codemirror_mode": {
    "name": "ipython",
    "version": 3
   },
   "file_extension": ".py",
   "mimetype": "text/x-python",
   "name": "python",
   "nbconvert_exporter": "python",
   "pygments_lexer": "ipython3",
   "version": "3.10.12"
  }
 },
 "nbformat": 4,
 "nbformat_minor": 2
}
